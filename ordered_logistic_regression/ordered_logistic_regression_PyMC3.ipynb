{
 "cells": [
  {
   "cell_type": "markdown",
   "metadata": {},
   "source": [
    "### Import libraries"
   ]
  },
  {
   "cell_type": "code",
   "execution_count": 132,
   "metadata": {},
   "outputs": [],
   "source": [
    "import pandas as pd \n",
    "import numpy as np\n",
    "import pymc3 as pm\n",
    "from sklearn.metrics import confusion_matrix, accuracy_score"
   ]
  },
  {
   "cell_type": "markdown",
   "metadata": {},
   "source": [
    "### Read data"
   ]
  },
  {
   "cell_type": "code",
   "execution_count": 103,
   "metadata": {},
   "outputs": [],
   "source": [
    "df  = pd.read_csv(\"WVS.csv\") # exported the dataset from R\n",
    "df.drop(df.columns[[0]], axis=1, inplace=True)\n",
    "y = df.iloc[:,-1]\n",
    "X = X.values\n",
    "y = y.values\n",
    "X = df.iloc[:, df.columns != 'y' ]"
   ]
  },
  {
   "cell_type": "markdown",
   "metadata": {},
   "source": [
    "### Model specification"
   ]
  },
  {
   "cell_type": "code",
   "execution_count": 131,
   "metadata": {
    "scrolled": true
   },
   "outputs": [
    {
     "name": "stdout",
     "output_type": "stream",
     "text": [
      "Running on PyMC3 v3.5\n"
     ]
    }
   ],
   "source": [
    "print('Running on PyMC3 v{}'.format(pm.__version__))"
   ]
  },
  {
   "cell_type": "code",
   "execution_count": 105,
   "metadata": {},
   "outputs": [],
   "source": [
    "N = X.shape[0]\n",
    "D = X.shape[1]"
   ]
  },
  {
   "cell_type": "code",
   "execution_count": 106,
   "metadata": {},
   "outputs": [],
   "source": [
    "with pm.Model() as mod:\n",
    "    \n",
    "    # Priors\n",
    "    sigma = pm.HalfNormal('sigma', sd = 1)   \n",
    "    \n",
    "    beta = pm.Normal('beta', mu=0, sd=sigma, shape=D) \n",
    "    \n",
    "    lp = pm.math.dot(X, beta)\n",
    "    \n",
    "    cutpoints = pm.Normal(\"cutpoints\", mu=[-0.01,0], sd=20, shape=2,\n",
    "                           transform=pm.distributions.transforms.ordered)\n",
    "    \n",
    "    # Likelihood \n",
    "    y_obs = pm.OrderedLogistic(\"y_obs\", eta=lp, cutpoints=cutpoints, observed=y-1)"
   ]
  },
  {
   "cell_type": "markdown",
   "metadata": {},
   "source": [
    "### Sampling"
   ]
  },
  {
   "cell_type": "code",
   "execution_count": 153,
   "metadata": {},
   "outputs": [
    {
     "name": "stderr",
     "output_type": "stream",
     "text": [
      "Auto-assigning NUTS sampler...\n",
      "Initializing NUTS using jitter+adapt_diag...\n",
      "/Users/kcft114/anaconda3/envs/pymc_env/lib/python3.5/site-packages/theano/tensor/subtensor.py:2197: FutureWarning: Using a non-tuple sequence for multidimensional indexing is deprecated; use `arr[tuple(seq)]` instead of `arr[seq]`. In the future this will be interpreted as an array index, `arr[np.array(seq)]`, which will result either in an error or a different result.\n",
      "  rval = inputs[0].__getitem__(inputs[1:])\n",
      "Multiprocess sampling (4 chains in 4 jobs)\n",
      "NUTS: [cutpoints, beta, sigma]\n",
      "Sampling 4 chains: 100%|██████████| 40000/40000 [22:00<00:00, 18.34draws/s]\n",
      "The acceptance probability does not match the target. It is 0.9219092342189799, but should be close to 0.85. Try to increase the number of tuning steps.\n"
     ]
    }
   ],
   "source": [
    "with mod:\n",
    "    # draw posterior samples\n",
    "    trace = pm.sample(5000, tune=5000, nuts_kwargs=dict(target_accept=.85))"
   ]
  },
  {
   "cell_type": "markdown",
   "metadata": {},
   "source": [
    "### Parameter estimates"
   ]
  },
  {
   "cell_type": "code",
   "execution_count": 154,
   "metadata": {},
   "outputs": [
    {
     "data": {
      "text/html": [
       "<div>\n",
       "<style scoped>\n",
       "    .dataframe tbody tr th:only-of-type {\n",
       "        vertical-align: middle;\n",
       "    }\n",
       "\n",
       "    .dataframe tbody tr th {\n",
       "        vertical-align: top;\n",
       "    }\n",
       "\n",
       "    .dataframe thead th {\n",
       "        text-align: right;\n",
       "    }\n",
       "</style>\n",
       "<table border=\"1\" class=\"dataframe\">\n",
       "  <thead>\n",
       "    <tr style=\"text-align: right;\">\n",
       "      <th></th>\n",
       "      <th>mean</th>\n",
       "      <th>sd</th>\n",
       "      <th>mc_error</th>\n",
       "      <th>hpd_2.5</th>\n",
       "      <th>hpd_97.5</th>\n",
       "      <th>n_eff</th>\n",
       "      <th>Rhat</th>\n",
       "    </tr>\n",
       "  </thead>\n",
       "  <tbody>\n",
       "    <tr>\n",
       "      <th>beta__0</th>\n",
       "      <td>-0.10</td>\n",
       "      <td>0.33</td>\n",
       "      <td>0.0</td>\n",
       "      <td>-0.77</td>\n",
       "      <td>0.57</td>\n",
       "      <td>6322.92</td>\n",
       "      <td>1.0</td>\n",
       "    </tr>\n",
       "    <tr>\n",
       "      <th>beta__1</th>\n",
       "      <td>0.07</td>\n",
       "      <td>0.33</td>\n",
       "      <td>0.0</td>\n",
       "      <td>-0.61</td>\n",
       "      <td>0.74</td>\n",
       "      <td>6308.13</td>\n",
       "      <td>1.0</td>\n",
       "    </tr>\n",
       "    <tr>\n",
       "      <th>beta__2</th>\n",
       "      <td>0.13</td>\n",
       "      <td>0.07</td>\n",
       "      <td>0.0</td>\n",
       "      <td>0.01</td>\n",
       "      <td>0.26</td>\n",
       "      <td>18835.00</td>\n",
       "      <td>1.0</td>\n",
       "    </tr>\n",
       "    <tr>\n",
       "      <th>beta__3</th>\n",
       "      <td>-0.31</td>\n",
       "      <td>0.07</td>\n",
       "      <td>0.0</td>\n",
       "      <td>-0.45</td>\n",
       "      <td>-0.17</td>\n",
       "      <td>14660.65</td>\n",
       "      <td>1.0</td>\n",
       "    </tr>\n",
       "    <tr>\n",
       "      <th>beta__4</th>\n",
       "      <td>-0.58</td>\n",
       "      <td>0.08</td>\n",
       "      <td>0.0</td>\n",
       "      <td>-0.73</td>\n",
       "      <td>-0.42</td>\n",
       "      <td>14406.65</td>\n",
       "      <td>1.0</td>\n",
       "    </tr>\n",
       "    <tr>\n",
       "      <th>beta__5</th>\n",
       "      <td>0.61</td>\n",
       "      <td>0.07</td>\n",
       "      <td>0.0</td>\n",
       "      <td>0.48</td>\n",
       "      <td>0.75</td>\n",
       "      <td>14013.94</td>\n",
       "      <td>1.0</td>\n",
       "    </tr>\n",
       "    <tr>\n",
       "      <th>beta__6</th>\n",
       "      <td>0.17</td>\n",
       "      <td>0.05</td>\n",
       "      <td>0.0</td>\n",
       "      <td>0.07</td>\n",
       "      <td>0.27</td>\n",
       "      <td>20235.29</td>\n",
       "      <td>1.0</td>\n",
       "    </tr>\n",
       "    <tr>\n",
       "      <th>beta__7</th>\n",
       "      <td>0.19</td>\n",
       "      <td>0.03</td>\n",
       "      <td>0.0</td>\n",
       "      <td>0.14</td>\n",
       "      <td>0.24</td>\n",
       "      <td>18473.51</td>\n",
       "      <td>1.0</td>\n",
       "    </tr>\n",
       "    <tr>\n",
       "      <th>sigma</th>\n",
       "      <td>0.44</td>\n",
       "      <td>0.15</td>\n",
       "      <td>0.0</td>\n",
       "      <td>0.22</td>\n",
       "      <td>0.74</td>\n",
       "      <td>10921.01</td>\n",
       "      <td>1.0</td>\n",
       "    </tr>\n",
       "    <tr>\n",
       "      <th>cutpoints__0</th>\n",
       "      <td>0.13</td>\n",
       "      <td>0.34</td>\n",
       "      <td>0.0</td>\n",
       "      <td>-0.56</td>\n",
       "      <td>0.80</td>\n",
       "      <td>6359.12</td>\n",
       "      <td>1.0</td>\n",
       "    </tr>\n",
       "    <tr>\n",
       "      <th>cutpoints__1</th>\n",
       "      <td>1.93</td>\n",
       "      <td>0.34</td>\n",
       "      <td>0.0</td>\n",
       "      <td>1.24</td>\n",
       "      <td>2.60</td>\n",
       "      <td>6401.59</td>\n",
       "      <td>1.0</td>\n",
       "    </tr>\n",
       "  </tbody>\n",
       "</table>\n",
       "</div>"
      ],
      "text/plain": [
       "              mean    sd  mc_error  hpd_2.5  hpd_97.5     n_eff  Rhat\n",
       "beta__0      -0.10  0.33       0.0    -0.77      0.57   6322.92   1.0\n",
       "beta__1       0.07  0.33       0.0    -0.61      0.74   6308.13   1.0\n",
       "beta__2       0.13  0.07       0.0     0.01      0.26  18835.00   1.0\n",
       "beta__3      -0.31  0.07       0.0    -0.45     -0.17  14660.65   1.0\n",
       "beta__4      -0.58  0.08       0.0    -0.73     -0.42  14406.65   1.0\n",
       "beta__5       0.61  0.07       0.0     0.48      0.75  14013.94   1.0\n",
       "beta__6       0.17  0.05       0.0     0.07      0.27  20235.29   1.0\n",
       "beta__7       0.19  0.03       0.0     0.14      0.24  18473.51   1.0\n",
       "sigma         0.44  0.15       0.0     0.22      0.74  10921.01   1.0\n",
       "cutpoints__0  0.13  0.34       0.0    -0.56      0.80   6359.12   1.0\n",
       "cutpoints__1  1.93  0.34       0.0     1.24      2.60   6401.59   1.0"
      ]
     },
     "execution_count": 154,
     "metadata": {},
     "output_type": "execute_result"
    }
   ],
   "source": [
    "pm.summary(trace).round(2)"
   ]
  },
  {
   "cell_type": "markdown",
   "metadata": {},
   "source": [
    "### Predictions"
   ]
  },
  {
   "cell_type": "code",
   "execution_count": 155,
   "metadata": {},
   "outputs": [
    {
     "name": "stderr",
     "output_type": "stream",
     "text": [
      "100%|██████████| 5000/5000 [20:30<00:00,  4.18it/s]\n"
     ]
    }
   ],
   "source": [
    "ppc = pm.sample_ppc(trace, samples=5000, model=mod, size=1)"
   ]
  },
  {
   "cell_type": "code",
   "execution_count": 192,
   "metadata": {},
   "outputs": [],
   "source": [
    "y_pred_samps = ppc['y_obs']\n",
    "y_pred = np.zeros(y_pred_samps.shape[1])\n",
    "\n",
    "for i in range(0,len(pred)):\n",
    "\n",
    "    p1 = np.mean(y_pred_samps[:,i] == 0)\n",
    "    p2 = np.mean(y_pred_samps[:,i] == 1)\n",
    "    p3 = np.mean(y_pred_samps[:,i] == 2)\n",
    "    probs = [p1, p2, p3]\n",
    "    \n",
    "    y_pred[i] = probs.index(max(probs)) + 1"
   ]
  },
  {
   "cell_type": "markdown",
   "metadata": {},
   "source": [
    "### Accuracy, confusion matrix"
   ]
  },
  {
   "cell_type": "code",
   "execution_count": 193,
   "metadata": {},
   "outputs": [
    {
     "data": {
      "text/plain": [
       "array([[2203,  505,    0],\n",
       "       [1490,  372,    0],\n",
       "       [ 387,  424,    0]])"
      ]
     },
     "execution_count": 193,
     "metadata": {},
     "output_type": "execute_result"
    }
   ],
   "source": [
    "confusion_matrix(y-1, y_pred-1)"
   ]
  },
  {
   "cell_type": "code",
   "execution_count": 194,
   "metadata": {},
   "outputs": [
    {
     "data": {
      "text/plain": [
       "0.48"
      ]
     },
     "execution_count": 194,
     "metadata": {},
     "output_type": "execute_result"
    }
   ],
   "source": [
    "round(accuracy_score(y_true=y, y_pred=y_pred),2)"
   ]
  },
  {
   "cell_type": "code",
   "execution_count": null,
   "metadata": {},
   "outputs": [],
   "source": []
  }
 ],
 "metadata": {
  "@webio": {
   "lastCommId": null,
   "lastKernelId": null
  },
  "kernelspec": {
   "display_name": "Python 3",
   "language": "python",
   "name": "python3"
  },
  "language_info": {
   "codemirror_mode": {
    "name": "ipython",
    "version": 3
   },
   "file_extension": ".py",
   "mimetype": "text/x-python",
   "name": "python",
   "nbconvert_exporter": "python",
   "pygments_lexer": "ipython3",
   "version": "3.5.5"
  }
 },
 "nbformat": 4,
 "nbformat_minor": 2
}
