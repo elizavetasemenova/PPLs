{
 "cells": [
  {
   "cell_type": "markdown",
   "metadata": {},
   "source": [
    "### Import libraries"
   ]
  },
  {
   "cell_type": "code",
   "execution_count": 19,
   "metadata": {},
   "outputs": [],
   "source": [
    "using CSV\n",
    "using DataFrames\n",
    "using Turing\n",
    "using Plots\n",
    "using StatsBase\n",
    "using StatsFuns: logistic\n",
    "using MLBase"
   ]
  },
  {
   "cell_type": "markdown",
   "metadata": {},
   "source": [
    "### Read data"
   ]
  },
  {
   "cell_type": "code",
   "execution_count": 20,
   "metadata": {},
   "outputs": [
    {
     "name": "stdout",
     "output_type": "stream",
     "text": [
      "Array{Float64,2}\n",
      "Array{Int64,1}\n",
      "Dict(2=>1862,3=>811,1=>2708)\n"
     ]
    }
   ],
   "source": [
    "df = CSV.read(\"WVS.csv\")\n",
    "deletecols!(df, :Column1)\n",
    "y = convert(Array, df[:y])\n",
    "X = convert(Matrix, df[setdiff(names(df), [:y])]);\n",
    "println(typeof(X))\n",
    "println(typeof(y))\n",
    "println(countmap(y))"
   ]
  },
  {
   "cell_type": "markdown",
   "metadata": {},
   "source": [
    "### Define Ordered Logistic distribution"
   ]
  },
  {
   "cell_type": "code",
   "execution_count": 21,
   "metadata": {},
   "outputs": [],
   "source": [
    "struct OrderedLogistic{T1, T2} <: DiscreteUnivariateDistribution\n",
    "   η::T1\n",
    "   cutpoints::Vector{T2}\n",
    "end\n",
    "\n",
    "function Distributions.logpdf(d::OrderedLogistic, k::Int)\n",
    "   \n",
    "    K = length(d.cutpoints)+1\n",
    "\n",
    "    c =  d.cutpoints\n",
    "    \n",
    "    if k==1\n",
    "        logp= log(logistic(c[k]-d.η))\n",
    "    elseif k<K\n",
    "        logp= log(logistic(c[k]-d.η) - logistic(c[k-1]-d.η))\n",
    "    else\n",
    "        logp= log(1-logistic(c[k-1]-d.η))\n",
    "    end\n",
    "    \n",
    "    return(logp)\n",
    "end"
   ]
  },
  {
   "cell_type": "markdown",
   "metadata": {},
   "source": [
    "### Model specification"
   ]
  },
  {
   "cell_type": "code",
   "execution_count": 22,
   "metadata": {},
   "outputs": [
    {
     "data": {
      "text/plain": [
       "m (generic function with 3 methods)"
      ]
     },
     "execution_count": 22,
     "metadata": {},
     "output_type": "execute_result"
    }
   ],
   "source": [
    "### Turing model\n",
    "@model m(X, y) = begin\n",
    "\n",
    "    D = size(X, 2)\n",
    "\n",
    "    # priors\n",
    "    sigma ~ TruncatedNormal(0,1,0,Inf)\n",
    "    \n",
    "    c1 ~ Normal(0, 20)\n",
    "    log_diff_c ~ Normal(0, 2)\n",
    "    c2 = c1 + exp(log_diff_c)\n",
    "    c = [c1, c2]\n",
    "    \n",
    "    beta ~ MvNormal(zeros(D), sigma * ones(D))\n",
    "\n",
    "    lp = X * beta\n",
    "\n",
    "    # likelihood\n",
    "    for i = 1:length(y)\n",
    "        y[i] ~ OrderedLogistic(lp[i], c)\n",
    "    end\n",
    "end"
   ]
  },
  {
   "cell_type": "markdown",
   "metadata": {},
   "source": [
    "### Sampling"
   ]
  },
  {
   "cell_type": "code",
   "execution_count": 23,
   "metadata": {},
   "outputs": [
    {
     "name": "stderr",
     "output_type": "stream",
     "text": [
      "┌ Info: Finished 10000 sampling steps in 52.48485493 (s)\n",
      "│   h = Hamiltonian(metric=UnitEuclideanMetric([1.0, 1.0, 1.0, 1.0, 1.0, 1 ...]))\n",
      "│   τ = StaticTrajectory(integrator=Leapfrog(ϵ=0.005), λ=5))\n",
      "│   EBFMI(Hs) = 2237.069493255381\n",
      "│   mean(αs) = 0.9900482873377386\n",
      "└ @ AdvancedHMC /Users/kcft114/.julia/packages/AdvancedHMC/YWXfk/src/sampler.jl:77\n"
     ]
    }
   ],
   "source": [
    "steps = 10000\n",
    "#chain = sample(m(X, y), NUTS(steps, 0.65));\n",
    "chain = sample(m(X, y), HMC(steps, 5e-3, 5));"
   ]
  },
  {
   "cell_type": "markdown",
   "metadata": {},
   "source": [
    "### Parameter estimates"
   ]
  },
  {
   "cell_type": "code",
   "execution_count": 24,
   "metadata": {},
   "outputs": [
    {
     "name": "stdout",
     "output_type": "stream",
     "text": [
      "Object of type Chains, with data of type 10000×19×1 Array{Union{Missing, Float64},3}\n",
      "\n",
      "Log evidence      = 0.0\n",
      "Iterations        = 1:10000\n",
      "Thinning interval = 1\n",
      "Chains            = 1\n",
      "Samples per chain = 10000\n",
      "internals         = eval_num, lp, acceptance_rate, hamiltonian_energy, is_accept, log_density, n_steps, step_size\n",
      "parameters        = beta[3], c1, log_diff_c, sigma, beta[4], beta[6], beta[5], beta[1], beta[2], beta[7], beta[8]\n",
      "\n",
      "2-element Array{ChainDataFrame,1}\n",
      "\n",
      "Summary Statistics\n",
      "\n",
      "│ Row │ parameters │ mean       │ std       │ naive_se    │ mcse        │ ess     │ r_hat    │\n",
      "│     │ \u001b[90mSymbol\u001b[39m     │ \u001b[90mFloat64\u001b[39m    │ \u001b[90mFloat64\u001b[39m   │ \u001b[90mFloat64\u001b[39m     │ \u001b[90mFloat64\u001b[39m     │ \u001b[90mAny\u001b[39m     │ \u001b[90mAny\u001b[39m      │\n",
      "├─────┼────────────┼────────────┼───────────┼─────────────┼─────────────┼─────────┼──────────┤\n",
      "│ 1   │ beta[1]    │ -0.0176723 │ 0.263998  │ 0.00263998  │ 0.0254908   │ 40.1606 │ 1.10778  │\n",
      "│ 2   │ beta[2]    │ 0.155568   │ 0.262489  │ 0.00262489  │ 0.025518    │ 40.1606 │ 1.1069   │\n",
      "│ 3   │ beta[3]    │ 0.13721    │ 0.0764686 │ 0.000764686 │ 0.00348855  │ 121.589 │ 1.00214  │\n",
      "│ 4   │ beta[4]    │ -0.313394  │ 0.0696628 │ 0.000696628 │ 0.00410301  │ 254.509 │ 1.00225  │\n",
      "│ 5   │ beta[5]    │ -0.578377  │ 0.0775572 │ 0.000775572 │ 0.00472922  │ 192.895 │ 1.00805  │\n",
      "│ 6   │ beta[6]    │ 0.61118    │ 0.0727371 │ 0.000727371 │ 0.00399165  │ 186.158 │ 1.00311  │\n",
      "│ 7   │ beta[7]    │ 0.174786   │ 0.051908  │ 0.00051908  │ 0.0023034   │ 517.52  │ 1.00102  │\n",
      "│ 8   │ beta[8]    │ 0.191029   │ 0.0338066 │ 0.000338066 │ 0.000768648 │ 120.871 │ 1.00153  │\n",
      "│ 9   │ c1         │ 0.209686   │ 0.265487  │ 0.00265487  │ 0.0258131   │ 40.1606 │ 1.09578  │\n",
      "│ 10  │ log_diff_c │ 0.587829   │ 0.0220586 │ 0.000220586 │ 0.000405683 │ 2268.53 │ 0.999901 │\n",
      "│ 11  │ sigma      │ 0.459431   │ 0.174697  │ 0.00174697  │ 0.0167538   │ 40.1625 │ 1.01345  │\n",
      "\n",
      "Quantiles\n",
      "\n",
      "│ Row │ parameters │ 2.5%      │ 25.0%     │ 50.0%      │ 75.0%     │ 97.5%     │\n",
      "│     │ \u001b[90mSymbol\u001b[39m     │ \u001b[90mFloat64\u001b[39m   │ \u001b[90mFloat64\u001b[39m   │ \u001b[90mFloat64\u001b[39m    │ \u001b[90mFloat64\u001b[39m   │ \u001b[90mFloat64\u001b[39m   │\n",
      "├─────┼────────────┼───────────┼───────────┼────────────┼───────────┼───────────┤\n",
      "│ 1   │ beta[1]    │ -0.617212 │ -0.173229 │ -0.0217805 │ 0.157723  │ 0.56189   │\n",
      "│ 2   │ beta[2]    │ -0.433913 │ 0.0047038 │ 0.145562   │ 0.324863  │ 0.746934  │\n",
      "│ 3   │ beta[3]    │ 0.0122322 │ 0.0909752 │ 0.136117   │ 0.179343  │ 0.2611    │\n",
      "│ 4   │ beta[4]    │ -0.446682 │ -0.360702 │ -0.31431   │ -0.267634 │ -0.173134 │\n",
      "│ 5   │ beta[5]    │ -0.731115 │ -0.630001 │ -0.578961  │ -0.528974 │ -0.426751 │\n",
      "│ 6   │ beta[6]    │ 0.474098  │ 0.565358  │ 0.614062   │ 0.659139  │ 0.743318  │\n",
      "│ 7   │ beta[7]    │ 0.0725836 │ 0.139628  │ 0.175218   │ 0.20993   │ 0.275347  │\n",
      "│ 8   │ beta[8]    │ 0.137653  │ 0.172462  │ 0.190471   │ 0.208846  │ 0.244411  │\n",
      "│ 9   │ c1         │ -0.379056 │ 0.0568622 │ 0.212843   │ 0.3789    │ 0.791808  │\n",
      "│ 10  │ log_diff_c │ 0.544568  │ 0.573676  │ 0.587992   │ 0.602209  │ 0.630371  │\n",
      "│ 11  │ sigma      │ 0.228965  │ 0.327314  │ 0.421319   │ 0.556107  │ 0.890589  │\n"
     ]
    }
   ],
   "source": [
    "show(chain)"
   ]
  },
  {
   "cell_type": "code",
   "execution_count": 25,
   "metadata": {},
   "outputs": [
    {
     "name": "stdout",
     "output_type": "stream",
     "text": [
      "0.2096863511544855\n",
      "2.0101988527768584\n"
     ]
    }
   ],
   "source": [
    "e_log_diff_c = exp.(chain[:log_diff_c].value.data)[:,1,1]\n",
    "c1_est = chain[:c1].value.data[:,1,1]\n",
    "c2_est = c1_est + e_log_diff_c;\n",
    "println(mean(c1_est))\n",
    "println(mean(c2_est))"
   ]
  },
  {
   "cell_type": "markdown",
   "metadata": {},
   "source": [
    "## How to make predictions now? Using the generative model."
   ]
  },
  {
   "cell_type": "code",
   "execution_count": 26,
   "metadata": {},
   "outputs": [],
   "source": [
    "function Distributions.rand(d::OrderedLogistic)\n",
    "    cutpoints = d.cutpoints\n",
    "    η = d.η  \n",
    "    \n",
    "    if !issorted(cutpoints)\n",
    "        error(\"cutpoints are not sorted\")\n",
    "    end\n",
    "\n",
    "    K = length(cutpoints)+1\n",
    "    c = vcat(-Inf, cutpoints, Inf)\n",
    "    l = [i for i in zip(c[1:(end-1)],c[2:end])]\n",
    "    ps = [logistic(η - l[i][1]) - logistic(η - l[i][2]) for i in 1:K]\n",
    "    k = findall(ps.== maximum(ps))[1]\n",
    "    \n",
    "    if all(ps.>0)\n",
    "        return(k)\n",
    "    else\n",
    "        return(-Inf)\n",
    "    end\n",
    "end"
   ]
  },
  {
   "cell_type": "code",
   "execution_count": 27,
   "metadata": {},
   "outputs": [],
   "source": [
    "beta_est = chain[:beta].value.data[:,:,1]';\n",
    "lp_post = X * beta_est;\n",
    "\n",
    "y_pred_samps = zeros(size(lp_post));\n",
    "\n",
    "for i in 1:size(y_pred_samps,1)\n",
    "    for j in 1:size(y_pred_samps,2)\n",
    "        \n",
    "        c1 = c1_est[j,1,1]\n",
    "        c2 = c2_est[j,1,1]\n",
    "        c = [c1, c2]\n",
    "        \n",
    "        dist = OrderedLogistic(lp_post[i,j], c)\n",
    "        \n",
    "        y_pred_samps[i,j] = rand(dist)\n",
    "    end\n",
    "end"
   ]
  },
  {
   "cell_type": "code",
   "execution_count": 34,
   "metadata": {},
   "outputs": [
    {
     "data": {
      "text/plain": [
       "Dict{Int64,Int64} with 2 entries:\n",
       "  2 => 1301\n",
       "  1 => 4080"
      ]
     },
     "execution_count": 34,
     "metadata": {},
     "output_type": "execute_result"
    }
   ],
   "source": [
    "y_pred = zeros(size(y_pred_samps, 1));\n",
    "\n",
    "for i in 1:length(y_pred)\n",
    "    \n",
    "    p1 = mean(y_pred_samps[i,:] .== 1)\n",
    "    p2 = mean(y_pred_samps[i,:] .== 2)\n",
    "    p3 = mean(y_pred_samps[i,:] .== 3)\n",
    "    probs = [p1, p2, p3]\n",
    "    \n",
    "    y_pred[i] = sum((probs .== maximum(probs)) .* [1, 2, 3])\n",
    "end\n",
    "\n",
    "y_pred = convert(Array{Int64,1}, y_pred);\n",
    "countmap(y_pred)"
   ]
  },
  {
   "cell_type": "markdown",
   "metadata": {},
   "source": [
    "### Accuracy, confusion matrix"
   ]
  },
  {
   "cell_type": "code",
   "execution_count": 35,
   "metadata": {},
   "outputs": [
    {
     "data": {
      "text/plain": [
       "0.47909310537074895"
      ]
     },
     "execution_count": 35,
     "metadata": {},
     "output_type": "execute_result"
    }
   ],
   "source": [
    "mean(y .== y_pred)"
   ]
  },
  {
   "cell_type": "code",
   "execution_count": 36,
   "metadata": {},
   "outputs": [
    {
     "data": {
      "text/plain": [
       "3×3 Array{Int64,2}:\n",
       " 2206  502  0\n",
       " 1490  372  0\n",
       "  384  427  0"
      ]
     },
     "execution_count": 36,
     "metadata": {},
     "output_type": "execute_result"
    }
   ],
   "source": [
    "C = confusmat(3, y, y_pred)"
   ]
  },
  {
   "cell_type": "code",
   "execution_count": null,
   "metadata": {},
   "outputs": [],
   "source": []
  }
 ],
 "metadata": {
  "@webio": {
   "lastCommId": null,
   "lastKernelId": null
  },
  "kernelspec": {
   "display_name": "Julia 1.0.4",
   "language": "julia",
   "name": "julia-1.0"
  },
  "language_info": {
   "file_extension": ".jl",
   "mimetype": "application/julia",
   "name": "julia",
   "version": "1.0.4"
  }
 },
 "nbformat": 4,
 "nbformat_minor": 2
}
