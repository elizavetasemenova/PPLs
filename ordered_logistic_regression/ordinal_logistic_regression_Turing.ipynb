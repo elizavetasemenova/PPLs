{
 "cells": [
  {
   "cell_type": "markdown",
   "metadata": {},
   "source": [
    "### Import libraries"
   ]
  },
  {
   "cell_type": "code",
   "execution_count": 11,
   "metadata": {},
   "outputs": [],
   "source": [
    "using CSV\n",
    "using DataFrames\n",
    "using Turing\n",
    "using Plots\n",
    "using StatsBase\n",
    "using StatsFuns: logistic\n",
    "using MLBase"
   ]
  },
  {
   "cell_type": "markdown",
   "metadata": {},
   "source": [
    "### Read data"
   ]
  },
  {
   "cell_type": "code",
   "execution_count": 12,
   "metadata": {},
   "outputs": [
    {
     "name": "stdout",
     "output_type": "stream",
     "text": [
      "Array{Float64,2}\n",
      "Array{Int64,1}\n",
      "Dict(2=>1862,3=>811,1=>2708)\n"
     ]
    }
   ],
   "source": [
    "df = CSV.read(\"WVS.csv\")\n",
    "deletecols!(df, :Column1)\n",
    "y = convert(Array, df[:y])\n",
    "X = convert(Matrix, df[setdiff(names(df), [:y])]);\n",
    "println(typeof(X))\n",
    "println(typeof(y))\n",
    "println(countmap(y))"
   ]
  },
  {
   "cell_type": "markdown",
   "metadata": {},
   "source": [
    "### Define Ordered Logistic distribution"
   ]
  },
  {
   "cell_type": "code",
   "execution_count": 13,
   "metadata": {},
   "outputs": [],
   "source": [
    "struct OrderedLogistic{T1, T2} <: DiscreteUnivariateDistribution\n",
    "   η::T1\n",
    "   cutpoints::Vector{T2}\n",
    "end\n",
    "\n",
    "function Distributions.logpdf(d::OrderedLogistic, k::Int)\n",
    "   \n",
    "    K = length(d.cutpoints)+1\n",
    "\n",
    "    c =  d.cutpoints\n",
    "    \n",
    "    if k==1\n",
    "        logp= log(logistic(c[k]-d.η))\n",
    "    elseif k<K\n",
    "        logp= log(logistic(c[k]-d.η) - logistic(c[k-1]-d.η))\n",
    "    else\n",
    "        logp= log(1-logistic(c[k-1]-d.η))\n",
    "    end\n",
    "    \n",
    "    return(logp)\n",
    "end"
   ]
  },
  {
   "cell_type": "markdown",
   "metadata": {},
   "source": [
    "### Model specification"
   ]
  },
  {
   "cell_type": "code",
   "execution_count": 14,
   "metadata": {},
   "outputs": [
    {
     "data": {
      "text/plain": [
       "m (generic function with 3 methods)"
      ]
     },
     "execution_count": 14,
     "metadata": {},
     "output_type": "execute_result"
    }
   ],
   "source": [
    "### Turing model\n",
    "@model m(X, y) = begin\n",
    "\n",
    "    D = size(X, 2)\n",
    "\n",
    "    # priors\n",
    "    sigma ~ TruncatedNormal(0,1,0,Inf)\n",
    "    \n",
    "    c1 ~ Normal(0, 20)\n",
    "    log_diff_c ~ Normal(0, 2)\n",
    "    c2 = c1 + exp(log_diff_c)\n",
    "    c = [c1, c2]\n",
    "    \n",
    "    beta ~ MvNormal(zeros(D), sigma * ones(D))\n",
    "\n",
    "    lp = X * beta\n",
    "\n",
    "    # likelihood\n",
    "    for i = 1:length(y)\n",
    "        y[i] ~ OrderedLogistic(lp[i], c)\n",
    "    end\n",
    "end"
   ]
  },
  {
   "cell_type": "markdown",
   "metadata": {},
   "source": [
    "### Sampling"
   ]
  },
  {
   "cell_type": "code",
   "execution_count": 15,
   "metadata": {},
   "outputs": [
    {
     "name": "stderr",
     "output_type": "stream",
     "text": [
      "┌ Warning: The current proposal will be rejected due to numerical error(s).\n",
      "│   isfiniteθ = true\n",
      "│   isfiniter = false\n",
      "│   isfiniteℓπ = false\n",
      "│   isfiniteℓκ = false\n",
      "└ @ AdvancedHMC /Users/kcft114/.julia/packages/AdvancedHMC/YWXfk/src/hamiltonian.jl:36\n",
      "┌ Warning: The current proposal will be rejected due to numerical error(s).\n",
      "│   isfiniteθ = true\n",
      "│   isfiniter = false\n",
      "│   isfiniteℓπ = false\n",
      "│   isfiniteℓκ = false\n",
      "└ @ AdvancedHMC /Users/kcft114/.julia/packages/AdvancedHMC/YWXfk/src/hamiltonian.jl:36\n",
      "┌ Info: Found initial step size\n",
      "│   init_ϵ = 0.025\n",
      "└ @ Turing.Inference /Users/kcft114/.julia/packages/Turing/3Ij4X/src/inference/hmc.jl:364\n",
      "┌ Warning: The current proposal will be rejected due to numerical error(s).\n",
      "│   isfiniteθ = true\n",
      "│   isfiniter = false\n",
      "│   isfiniteℓπ = false\n",
      "│   isfiniteℓκ = false\n",
      "└ @ AdvancedHMC /Users/kcft114/.julia/packages/AdvancedHMC/YWXfk/src/hamiltonian.jl:36\n",
      "┌ Warning: The current proposal will be rejected due to numerical error(s).\n",
      "│   isfiniteθ = true\n",
      "│   isfiniter = false\n",
      "│   isfiniteℓπ = false\n",
      "│   isfiniteℓκ = false\n",
      "└ @ AdvancedHMC /Users/kcft114/.julia/packages/AdvancedHMC/YWXfk/src/hamiltonian.jl:36\n",
      "┌ Info: Finished 1000 adapation steps\n",
      "│   adaptor = StanHMCAdaptor(n_adapts=1000, pc=DiagPreconditioner, ssa=NesterovDualAveraging(γ=0.05, t_0=10.0, κ=0.75, δ=0.65, state.ϵ=0.09982702339379465), init_buffer=75, term_buffer=50)\n",
      "│   τ.integrator = Leapfrog(ϵ=0.0998)\n",
      "│   h.metric = DiagEuclideanMetric([0.0853478, 0.0603288, 0.00 ...])\n",
      "└ @ AdvancedHMC /Users/kcft114/.julia/packages/AdvancedHMC/YWXfk/src/sampler.jl:67\n",
      "┌ Info: Finished 10000 sampling steps in 501.007390071 (s)\n",
      "│   h = Hamiltonian(metric=DiagEuclideanMetric([0.0853478, 0.0603288, 0.00 ...]))\n",
      "│   τ = NUTS{Multinomial}(integrator=Leapfrog(ϵ=0.0998), max_depth=5), Δ_max=1000.0)\n",
      "│   EBFMI(Hs) = 1273.5115544437162\n",
      "│   mean(αs) = 0.8716360175932372\n",
      "└ @ AdvancedHMC /Users/kcft114/.julia/packages/AdvancedHMC/YWXfk/src/sampler.jl:77\n"
     ]
    }
   ],
   "source": [
    "steps = 10000\n",
    "chain = sample(m(X, y), NUTS(steps, 0.65));"
   ]
  },
  {
   "cell_type": "markdown",
   "metadata": {},
   "source": [
    "### Parameter estimates"
   ]
  },
  {
   "cell_type": "code",
   "execution_count": 16,
   "metadata": {},
   "outputs": [
    {
     "name": "stdout",
     "output_type": "stream",
     "text": [
      "Object of type Chains, with data of type 9000×21×1 Array{Union{Missing, Float64},3}\n",
      "\n",
      "Log evidence      = 0.0\n",
      "Iterations        = 1:9000\n",
      "Thinning interval = 1\n",
      "Chains            = 1\n",
      "Samples per chain = 9000\n",
      "internals         = eval_num, lp, acceptance_rate, hamiltonian_energy, is_accept, log_density, n_steps, numerical_error, step_size, tree_depth\n",
      "parameters        = beta[3], c1, log_diff_c, sigma, beta[4], beta[6], beta[5], beta[1], beta[2], beta[7], beta[8]\n",
      "\n",
      "2-element Array{ChainDataFrame,1}\n",
      "\n",
      "Summary Statistics\n",
      "\n",
      "│ Row │ parameters │ mean       │ std       │ naive_se    │ mcse        │ ess     │ r_hat    │\n",
      "│     │ \u001b[90mSymbol\u001b[39m     │ \u001b[90mFloat64\u001b[39m    │ \u001b[90mFloat64\u001b[39m   │ \u001b[90mFloat64\u001b[39m     │ \u001b[90mFloat64\u001b[39m     │ \u001b[90mAny\u001b[39m     │ \u001b[90mAny\u001b[39m      │\n",
      "├─────┼────────────┼────────────┼───────────┼─────────────┼─────────────┼─────────┼──────────┤\n",
      "│ 1   │ beta[1]    │ -0.0736091 │ 0.326922  │ 0.00344606  │ 0.00814165  │ 1701.08 │ 1.00029  │\n",
      "│ 2   │ beta[2]    │ 0.0958954  │ 0.326843  │ 0.00344522  │ 0.00826656  │ 1665.48 │ 1.00014  │\n",
      "│ 3   │ beta[3]    │ 0.132518   │ 0.0641248 │ 0.000675935 │ 0.00097154  │ 3980.8  │ 1.00011  │\n",
      "│ 4   │ beta[4]    │ -0.307278  │ 0.0733593 │ 0.000773275 │ 0.00118596  │ 3544.83 │ 1.00048  │\n",
      "│ 5   │ beta[5]    │ -0.578616  │ 0.0789947 │ 0.000832677 │ 0.00137161  │ 3287.91 │ 1.00084  │\n",
      "│ 6   │ beta[6]    │ 0.61338    │ 0.0697752 │ 0.000735495 │ 0.00111817  │ 3772.99 │ 0.999964 │\n",
      "│ 7   │ beta[7]    │ 0.171419   │ 0.0523991 │ 0.000552335 │ 0.000736538 │ 5209.71 │ 0.999936 │\n",
      "│ 8   │ beta[8]    │ 0.189688   │ 0.0266277 │ 0.00028068  │ 0.000398737 │ 4161.73 │ 1.00032  │\n",
      "│ 9   │ c1         │ 0.148527   │ 0.329625  │ 0.00347456  │ 0.00840525  │ 1672.49 │ 1.00025  │\n",
      "│ 10  │ log_diff_c │ 0.588248   │ 0.0208848 │ 0.000220145 │ 0.00036693  │ 4142.19 │ 1.00039  │\n",
      "│ 11  │ sigma      │ 0.440058   │ 0.150469  │ 0.00158608  │ 0.00256717  │ 2594.33 │ 1.00012  │\n",
      "\n",
      "Quantiles\n",
      "\n",
      "│ Row │ parameters │ 2.5%       │ 25.0%      │ 50.0%      │ 75.0%     │ 97.5%     │\n",
      "│     │ \u001b[90mSymbol\u001b[39m     │ \u001b[90mFloat64\u001b[39m    │ \u001b[90mFloat64\u001b[39m    │ \u001b[90mFloat64\u001b[39m    │ \u001b[90mFloat64\u001b[39m   │ \u001b[90mFloat64\u001b[39m   │\n",
      "├─────┼────────────┼────────────┼────────────┼────────────┼───────────┼───────────┤\n",
      "│ 1   │ beta[1]    │ -0.721183  │ -0.277691  │ -0.0773508 │ 0.122061  │ 0.604619  │\n",
      "│ 2   │ beta[2]    │ -0.5424    │ -0.108634  │ 0.0872684  │ 0.298234  │ 0.76688   │\n",
      "│ 3   │ beta[3]    │ 0.00293167 │ 0.090258   │ 0.132244   │ 0.17563   │ 0.259444  │\n",
      "│ 4   │ beta[4]    │ -0.45342   │ -0.355461  │ -0.308436  │ -0.257702 │ -0.162019 │\n",
      "│ 5   │ beta[5]    │ -0.733717  │ -0.631593  │ -0.578403  │ -0.526708 │ -0.423433 │\n",
      "│ 6   │ beta[6]    │ 0.47751    │ 0.565953   │ 0.612574   │ 0.661514  │ 0.748339  │\n",
      "│ 7   │ beta[7]    │ 0.0693992  │ 0.136073   │ 0.171352   │ 0.206197  │ 0.27758   │\n",
      "│ 8   │ beta[8]    │ 0.137646   │ 0.171908   │ 0.189642   │ 0.207757  │ 0.242372  │\n",
      "│ 9   │ c1         │ -0.492069  │ -0.0590659 │ 0.140353   │ 0.35187   │ 0.830425  │\n",
      "│ 10  │ log_diff_c │ 0.546779   │ 0.574214   │ 0.58849    │ 0.602445  │ 0.62851   │\n",
      "│ 11  │ sigma      │ 0.248433   │ 0.338645   │ 0.408117   │ 0.504086  │ 0.823383  │\n"
     ]
    }
   ],
   "source": [
    "show(chain)"
   ]
  },
  {
   "cell_type": "code",
   "execution_count": 17,
   "metadata": {},
   "outputs": [
    {
     "name": "stdout",
     "output_type": "stream",
     "text": [
      "0.14852671664785083\n",
      "1.9497495954146393\n"
     ]
    }
   ],
   "source": [
    "e_log_diff_c = exp.(chain[:log_diff_c].value.data)[:,1,1]\n",
    "c1_est = chain[:c1].value.data[:,1,1]\n",
    "c2_est = c1_est + e_log_diff_c;\n",
    "println(mean(c1_est))\n",
    "println(mean(c2_est))"
   ]
  },
  {
   "cell_type": "code",
   "execution_count": 23,
   "metadata": {},
   "outputs": [],
   "source": [
    "# bonus: plots of posterior distributions\n",
    "histogram(c1_est , bar_width=0.04, legend=false, title=\"Posterior distributions in Julia / Turing\", yaxis=nothing)\n",
    "histogram!(c2_est )\n",
    "savefig(\"posterior_plot.png\" )"
   ]
  },
  {
   "cell_type": "markdown",
   "metadata": {},
   "source": [
    "## How to make predictions now? Using the generative model."
   ]
  },
  {
   "cell_type": "code",
   "execution_count": 27,
   "metadata": {},
   "outputs": [],
   "source": [
    "function Distributions.rand(d::OrderedLogistic)\n",
    "    cutpoints = d.cutpoints\n",
    "    η = d.η  \n",
    "    \n",
    "    if !issorted(cutpoints)\n",
    "        error(\"cutpoints are not sorted\")\n",
    "    end\n",
    "\n",
    "    K = length(cutpoints)+1\n",
    "    c = vcat(-Inf, cutpoints, Inf)\n",
    "    l = [i for i in zip(c[1:(end-1)],c[2:end])]\n",
    "    ps = [logistic(η - l[i][1]) - logistic(η - l[i][2]) for i in 1:K]\n",
    "    k = findall(ps.== maximum(ps))[1]\n",
    "    \n",
    "    if all(ps.>0)\n",
    "        return(k)\n",
    "    else\n",
    "        return(-Inf)\n",
    "    end\n",
    "end"
   ]
  },
  {
   "cell_type": "code",
   "execution_count": 28,
   "metadata": {},
   "outputs": [],
   "source": [
    "beta_est = chain[:beta].value.data[:,:,1]';\n",
    "lp_post = X * beta_est;\n",
    "\n",
    "y_pred_samps = zeros(size(lp_post));\n",
    "\n",
    "for i in 1:size(y_pred_samps,1)\n",
    "    for j in 1:size(y_pred_samps,2)\n",
    "        \n",
    "        c1 = c1_est[j,1,1]\n",
    "        c2 = c2_est[j,1,1]\n",
    "        c = [c1, c2]\n",
    "        \n",
    "        dist = OrderedLogistic(lp_post[i,j], c)\n",
    "        \n",
    "        y_pred_samps[i,j] = rand(dist)\n",
    "    end\n",
    "end"
   ]
  },
  {
   "cell_type": "code",
   "execution_count": 29,
   "metadata": {},
   "outputs": [
    {
     "data": {
      "text/plain": [
       "Dict{Int64,Int64} with 2 entries:\n",
       "  2 => 1312\n",
       "  1 => 4069"
      ]
     },
     "execution_count": 29,
     "metadata": {},
     "output_type": "execute_result"
    }
   ],
   "source": [
    "y_pred = zeros(size(y_pred_samps, 1));\n",
    "\n",
    "for i in 1:length(y_pred)\n",
    "    \n",
    "    p1 = mean(y_pred_samps[i,:] .== 1)\n",
    "    p2 = mean(y_pred_samps[i,:] .== 2)\n",
    "    p3 = mean(y_pred_samps[i,:] .== 3)\n",
    "    probs = [p1, p2, p3]\n",
    "    \n",
    "    y_pred[i] = sum((probs .== maximum(probs)) .* [1, 2, 3])\n",
    "end\n",
    "\n",
    "y_pred = convert(Array{Int64,1}, y_pred);\n",
    "countmap(y_pred)"
   ]
  },
  {
   "cell_type": "markdown",
   "metadata": {},
   "source": [
    "### Accuracy, confusion matrix"
   ]
  },
  {
   "cell_type": "code",
   "execution_count": 30,
   "metadata": {},
   "outputs": [
    {
     "data": {
      "text/plain": [
       "0.47834974911726447"
      ]
     },
     "execution_count": 30,
     "metadata": {},
     "output_type": "execute_result"
    }
   ],
   "source": [
    "mean(y .== y_pred)"
   ]
  },
  {
   "cell_type": "code",
   "execution_count": 31,
   "metadata": {},
   "outputs": [
    {
     "data": {
      "text/plain": [
       "3×3 Array{Int64,2}:\n",
       " 2201  507  0\n",
       " 1489  373  0\n",
       "  379  432  0"
      ]
     },
     "execution_count": 31,
     "metadata": {},
     "output_type": "execute_result"
    }
   ],
   "source": [
    "C = confusmat(3, y, y_pred)"
   ]
  }
 ],
 "metadata": {
  "@webio": {
   "lastCommId": null,
   "lastKernelId": null
  },
  "kernelspec": {
   "display_name": "Julia 1.0.4",
   "language": "julia",
   "name": "julia-1.0"
  },
  "language_info": {
   "file_extension": ".jl",
   "mimetype": "application/julia",
   "name": "julia",
   "version": "1.0.4"
  }
 },
 "nbformat": 4,
 "nbformat_minor": 2
}
